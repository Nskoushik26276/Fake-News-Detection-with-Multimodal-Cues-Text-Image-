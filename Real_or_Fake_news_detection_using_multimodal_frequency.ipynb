{
  "nbformat": 4,
  "nbformat_minor": 0,
  "metadata": {
    "colab": {
      "provenance": [],
      "gpuType": "T4",
      "authorship_tag": "ABX9TyMDN9gwar9PGOgZCcPATN9k",
      "include_colab_link": true
    },
    "kernelspec": {
      "name": "python3",
      "display_name": "Python 3"
    },
    "language_info": {
      "name": "python"
    },
    "accelerator": "GPU"
  },
  "cells": [
    {
      "cell_type": "markdown",
      "metadata": {
        "id": "view-in-github",
        "colab_type": "text"
      },
      "source": [
        "<a href=\"https://colab.research.google.com/github/Nskoushik26276/Fake-News-Detection-with-Multimodal-Cues-Text-Image-/blob/main/Real_or_Fake_news_detection_using_multimodal_frequency.ipynb\" target=\"_parent\"><img src=\"https://colab.research.google.com/assets/colab-badge.svg\" alt=\"Open In Colab\"/></a>"
      ]
    },
    {
      "cell_type": "markdown",
      "source": [
        "**MOUNTING DRIVE**"
      ],
      "metadata": {
        "id": "9f7dKDffqBOH"
      }
    },
    {
      "cell_type": "code",
      "execution_count": 7,
      "metadata": {
        "colab": {
          "base_uri": "https://localhost:8080/"
        },
        "id": "NYOyh3hvl5GK",
        "outputId": "71b4eb85-5ff2-4663-fdd0-203fed2a6bf6"
      },
      "outputs": [
        {
          "output_type": "stream",
          "name": "stdout",
          "text": [
            "Mounted at /content/drive\n"
          ]
        }
      ],
      "source": [
        "#drive mount\n",
        "from google.colab import drive\n",
        "drive.mount('/content/drive')"
      ]
    },
    {
      "cell_type": "code",
      "source": [
        "#content viewing\n",
        "!ls \"/content/drive/MyDrive\""
      ],
      "metadata": {
        "colab": {
          "base_uri": "https://localhost:8080/"
        },
        "id": "n8WwsW3GmHgd",
        "outputId": "2caf14fb-290a-4b84-a7bc-d7d69e69f9c0"
      },
      "execution_count": 8,
      "outputs": [
        {
          "output_type": "stream",
          "name": "stdout",
          "text": [
            "'Adobe - LeetCode.gdoc'\t\t       'EML WEEK-6 - Jupyter Notebook.pdf'\n",
            "'Colab Notebooks'\t\t        fakenewsdetection.zip\n",
            "'DocScanner Feb 8, 2025 7-49 PM.gdoc'   spring.demo1\n",
            "'DocScanner Feb 8, 2025 7-49 PM.pdf'   'weather-monitoring.zip(AI-A-44).zip'\n",
            "'EML WEEK-6 - Jupyter Notebook.gdoc'\n"
          ]
        }
      ]
    },
    {
      "cell_type": "code",
      "source": [
        "#path conformation\n",
        "!ls \"/content/drive/MyDrive/fakenewsdetection.zip\""
      ],
      "metadata": {
        "colab": {
          "base_uri": "https://localhost:8080/"
        },
        "id": "_zohbGwvmMAa",
        "outputId": "196ef7a9-ca54-4f69-cd26-49739c981ef1"
      },
      "execution_count": 9,
      "outputs": [
        {
          "output_type": "stream",
          "name": "stdout",
          "text": [
            "/content/drive/MyDrive/fakenewsdetection.zip\n"
          ]
        }
      ]
    },
    {
      "cell_type": "markdown",
      "source": [
        "**Unzip Dataset**"
      ],
      "metadata": {
        "id": "0Ej6lIUTqIHD"
      }
    },
    {
      "cell_type": "code",
      "source": [
        "import zipfile\n",
        "import os\n",
        "\n",
        "# Path to your zip file\n",
        "zip_path = \"/content/drive/MyDrive/fakenewsdetection.zip\"\n",
        "extract_path = \"/content/fakenewsdata\"\n",
        "\n",
        "# Extract if not already\n",
        "if not os.path.exists(extract_path):\n",
        "    with zipfile.ZipFile(zip_path, 'r') as z:\n",
        "        z.extractall(extract_path)\n",
        "    print(\"✅ Dataset extracted successfully!\")\n",
        "else:\n",
        "    print(\"⚡ Already extracted\")\n",
        "\n",
        "# Count files and folders\n",
        "file_count = 0\n",
        "folder_count = 0\n",
        "for root, dirs, files in os.walk(extract_path):\n",
        "    folder_count += len(dirs)\n",
        "    file_count += len(files)\n",
        "\n",
        "print(f\"📂 Total folders: {folder_count}\")\n",
        "print(f\"📄 Total files: {file_count}\")\n",
        "\n",
        "# Show a few sample files\n",
        "print(\"\\n🔎 Sample contents:\")\n",
        "for i, (root, dirs, files) in enumerate(os.walk(extract_path)):\n",
        "    print(\"📁\", root)\n",
        "    for f in files[:5]:  # show first 5 files only\n",
        "        print(\"   └──\", f)\n",
        "    if i > 2:  # limit to top 3 levels\n",
        "        break"
      ],
      "metadata": {
        "colab": {
          "base_uri": "https://localhost:8080/"
        },
        "id": "vc17RO0_mUkh",
        "outputId": "af7375d5-080d-4fed-aa04-c7e4a7983bd6"
      },
      "execution_count": 10,
      "outputs": [
        {
          "output_type": "stream",
          "name": "stdout",
          "text": [
            "✅ Dataset extracted successfully!\n",
            "📂 Total folders: 3\n",
            "📄 Total files: 6\n",
            "\n",
            "🔎 Sample contents:\n",
            "📁 /content/fakenewsdata\n",
            "📁 /content/fakenewsdata/Fakeddit datasetv2.0\n",
            "📁 /content/fakenewsdata/Fakeddit datasetv2.0/multimodal_only_samples\n",
            "   └── multimodal_train.tsv\n",
            "   └── multimodal_test_public.tsv\n",
            "   └── multimodal_validate.tsv\n",
            "📁 /content/fakenewsdata/Fakeddit datasetv2.0/all_samples (also includes non multimodal)\n",
            "   └── all_validate.tsv\n",
            "   └── all_train.tsv\n",
            "   └── all_test_public.tsv\n"
          ]
        }
      ]
    },
    {
      "cell_type": "markdown",
      "source": [
        "**Explore Dataset Files**"
      ],
      "metadata": {
        "id": "O-gFKS5OqScP"
      }
    },
    {
      "cell_type": "code",
      "source": [
        "# List top-level contents\n",
        "os.listdir(extract_path)"
      ],
      "metadata": {
        "colab": {
          "base_uri": "https://localhost:8080/"
        },
        "id": "YT74f-ccmvu_",
        "outputId": "9105ad0a-d9e7-4772-ff11-2a02c4f6a7d9"
      },
      "execution_count": 11,
      "outputs": [
        {
          "output_type": "execute_result",
          "data": {
            "text/plain": [
              "['Fakeddit datasetv2.0']"
            ]
          },
          "metadata": {},
          "execution_count": 11
        }
      ]
    },
    {
      "cell_type": "code",
      "source": [
        "import os\n",
        "for root, dirs, files in os.walk(extract_path):\n",
        "    print(\"📂\", root)\n",
        "    for f in files[:10]:  # show first 10 files in each folder\n",
        "        print(\"   └──\", f)\n",
        "    print(\"-\" * 50)"
      ],
      "metadata": {
        "colab": {
          "base_uri": "https://localhost:8080/"
        },
        "id": "aqATFt0Xm-eL",
        "outputId": "2b4bbcf3-0bb4-4f52-f98d-2124bb1b76a5"
      },
      "execution_count": 12,
      "outputs": [
        {
          "output_type": "stream",
          "name": "stdout",
          "text": [
            "📂 /content/fakenewsdata\n",
            "--------------------------------------------------\n",
            "📂 /content/fakenewsdata/Fakeddit datasetv2.0\n",
            "--------------------------------------------------\n",
            "📂 /content/fakenewsdata/Fakeddit datasetv2.0/multimodal_only_samples\n",
            "   └── multimodal_train.tsv\n",
            "   └── multimodal_test_public.tsv\n",
            "   └── multimodal_validate.tsv\n",
            "--------------------------------------------------\n",
            "📂 /content/fakenewsdata/Fakeddit datasetv2.0/all_samples (also includes non multimodal)\n",
            "   └── all_validate.tsv\n",
            "   └── all_train.tsv\n",
            "   └── all_test_public.tsv\n",
            "--------------------------------------------------\n"
          ]
        }
      ]
    },
    {
      "cell_type": "markdown",
      "source": [
        "**Load Text + Metadata**"
      ],
      "metadata": {
        "id": "DUGW9AKUqWsz"
      }
    },
    {
      "cell_type": "code",
      "source": [
        "import pandas as pd\n",
        "import os\n",
        "base_path = \"/content/fakenewsdata/Fakeddit datasetv2.0/multimodal_only_samples\"\n",
        "# Load splits\n",
        "train_df = pd.read_csv(os.path.join(base_path, \"multimodal_train.tsv\"), sep=\"\\t\")\n",
        "val_df   = pd.read_csv(os.path.join(base_path, \"multimodal_validate.tsv\"), sep=\"\\t\")\n",
        "test_df  = pd.read_csv(os.path.join(base_path, \"multimodal_test_public.tsv\"), sep=\"\\t\")\n",
        "print(\"✅ Data loaded successfully!\")\n",
        "print(\"Train shape:\", train_df.shape)\n",
        "print(\"Validation shape:\", val_df.shape)\n",
        "print(\"Test shape:\", test_df.shape)\n",
        "# Quick preview\n",
        "print(\"\\n🔎 Columns:\", train_df.columns.tolist())\n",
        "print(train_df.head())"
      ],
      "metadata": {
        "colab": {
          "base_uri": "https://localhost:8080/"
        },
        "id": "_pfRJR6-m0l5",
        "outputId": "2ff16753-28a4-4c3d-e523-a31462c60745"
      },
      "execution_count": 13,
      "outputs": [
        {
          "output_type": "stream",
          "name": "stdout",
          "text": [
            "✅ Data loaded successfully!\n",
            "Train shape: (564000, 16)\n",
            "Validation shape: (59342, 16)\n",
            "Test shape: (59319, 16)\n",
            "\n",
            "🔎 Columns: ['author', 'clean_title', 'created_utc', 'domain', 'hasImage', 'id', 'image_url', 'linked_submission_id', 'num_comments', 'score', 'subreddit', 'title', 'upvote_ratio', '2_way_label', '3_way_label', '6_way_label']\n",
            "           author                                        clean_title  \\\n",
            "0     Alexithymia  my walgreens offbrand mucinex was engraved wit...   \n",
            "1        VIDCAs17                this concerned sink with a tiny hat   \n",
            "2  prometheus1123      hackers leak emails from uae ambassador to us   \n",
            "3             NaN                           puppy taking in the view   \n",
            "4       3rikR3ith               i found a face in my sheet music too   \n",
            "\n",
            "    created_utc         domain  hasImage      id  \\\n",
            "0  1.551641e+09    i.imgur.com      True  awxhir   \n",
            "1  1.534727e+09      i.redd.it      True  98pbid   \n",
            "2  1.496511e+09  aljazeera.com      True  6f2cy5   \n",
            "3  1.471341e+09    i.imgur.com      True  4xypkv   \n",
            "4  1.525318e+09      i.redd.it      True  8gnet9   \n",
            "\n",
            "                                           image_url linked_submission_id  \\\n",
            "0  https://external-preview.redd.it/WylDbZrnbvZdB...                  NaN   \n",
            "1  https://preview.redd.it/wsfx0gp0f5h11.jpg?widt...                  NaN   \n",
            "2  https://external-preview.redd.it/6fNhdbc6K1vFA...                  NaN   \n",
            "3  https://external-preview.redd.it/HLtVNhTR6wtYt...                  NaN   \n",
            "4  https://preview.redd.it/ri7ut2wn8kv01.jpg?widt...                  NaN   \n",
            "\n",
            "   num_comments  score          subreddit  \\\n",
            "0           2.0     12  mildlyinteresting   \n",
            "1           2.0    119         pareidolia   \n",
            "2           1.0     44        neutralnews   \n",
            "3          26.0    250   photoshopbattles   \n",
            "4           2.0     13         pareidolia   \n",
            "\n",
            "                                               title  upvote_ratio  \\\n",
            "0  My Walgreens offbrand Mucinex was engraved wit...          0.84   \n",
            "1                This concerned sink with a tiny hat          0.99   \n",
            "2      Hackers leak emails from UAE ambassador to US          0.92   \n",
            "3                 PsBattle: Puppy taking in the view          0.95   \n",
            "4              I found a face in my sheet music too!          0.84   \n",
            "\n",
            "   2_way_label  3_way_label  6_way_label  \n",
            "0            1            0            0  \n",
            "1            0            2            2  \n",
            "2            1            0            0  \n",
            "3            1            0            0  \n",
            "4            0            2            2  \n"
          ]
        }
      ]
    },
    {
      "cell_type": "markdown",
      "source": [
        "**(Optional) Download Images**"
      ],
      "metadata": {
        "id": "aT7k-AG_qcq3"
      }
    },
    {
      "cell_type": "code",
      "source": [
        "#image download\n",
        "import requests\n",
        "from tqdm import tqdm\n",
        "image_urls = [\n",
        "    \"https://upload.wikimedia.org/wikipedia/commons/4/47/PNG_transparency_demonstration_1.png\",\n",
        "    \"https://upload.wikimedia.org/wikipedia/commons/9/99/Black_square.jpg\"\n",
        "]\n",
        "# More realistic headers to avoid 403 errors\n",
        "headers = {\n",
        "    \"User-Agent\": \"Mozilla/5.0 (Windows NT 10.0; Win64; x64) \"\n",
        "                  \"AppleWebKit/537.36 (KHTML, like Gecko) \"\n",
        "                  \"Chrome/139.0.0.0 Safari/537.36\",\n",
        "    \"Accept\": \"text/html,application/xhtml+xml,application/xml;q=0.9,image/webp,*/*;q=0.8\",\n",
        "    \"Referer\": \"https://upload.wikimedia.org/\"\n",
        "}\n",
        "\n",
        "for url in tqdm(image_urls):\n",
        "    try:\n",
        "        response = requests.get(url, headers=headers)\n",
        "        filename = url.split(\"/\")[-1]\n",
        "        if response.status_code == 200:\n",
        "            with open(filename, \"wb\") as f:\n",
        "                f.write(response.content)\n",
        "            print(f\"✅ Successfully downloaded: {filename}\")\n",
        "        else:\n",
        "            print(f\"⚠️ Failed to download: {url} (Status code: {response.status_code})\")\n",
        "    except Exception as e:\n",
        "        print(f\"⚠️ Error downloading {url}: {e}\")\n",
        "print(\"All downloads attempted!\")"
      ],
      "metadata": {
        "colab": {
          "base_uri": "https://localhost:8080/"
        },
        "id": "u6shNdLkpQ-F",
        "outputId": "9db4526c-fd81-430f-edf6-ccc599813307"
      },
      "execution_count": 14,
      "outputs": [
        {
          "output_type": "stream",
          "name": "stderr",
          "text": [
            "100%|██████████| 2/2 [00:00<00:00, 63.90it/s]"
          ]
        },
        {
          "output_type": "stream",
          "name": "stdout",
          "text": [
            "✅ Successfully downloaded: PNG_transparency_demonstration_1.png\n",
            "✅ Successfully downloaded: Black_square.jpg\n",
            "All downloads attempted!\n"
          ]
        },
        {
          "output_type": "stream",
          "name": "stderr",
          "text": [
            "\n"
          ]
        }
      ]
    },
    {
      "cell_type": "markdown",
      "source": [
        "**Prepare Data for Modeling**"
      ],
      "metadata": {
        "id": "Q-eNwZ28qh7a"
      }
    },
    {
      "cell_type": "code",
      "source": [
        "#text encoding\n",
        "from transformers import DistilBertTokenizer, DistilBertModel\n",
        "import torch\n",
        "tokenizer = DistilBertTokenizer.from_pretrained('distilbert-base-uncased')\n",
        "model = DistilBertModel.from_pretrained('distilbert-base-uncased')\n",
        "text = \"Breaking news: something happened!\"\n",
        "inputs = tokenizer(text, return_tensors=\"pt\", truncation=True, padding=True)\n",
        "outputs = model(**inputs)\n",
        "text_embedding = outputs.last_hidden_state.mean(dim=1)  # Pooled embedding"
      ],
      "metadata": {
        "id": "pCQk0geJp5jY"
      },
      "execution_count": 15,
      "outputs": []
    },
    {
      "cell_type": "code",
      "source": [
        "#Image Encoding\n",
        "import torch\n",
        "from torchvision import models, transforms\n",
        "from PIL import Image\n",
        "# Preprocessing\n",
        "preprocess = transforms.Compose([\n",
        "    transforms.Resize((224, 224)),\n",
        "    transforms.ToTensor(),\n",
        "    transforms.Normalize(mean=[0.485, 0.456, 0.406],\n",
        "                         std=[0.229, 0.224, 0.225])\n",
        "])\n",
        "# Image filename\n",
        "filename = \"PNG_transparency_demonstration_1.png\"\n",
        "try:\n",
        "    # Open and convert image to RGB\n",
        "    image = Image.open(filename).convert(\"RGB\")\n",
        "    # Preprocess and add batch dimension\n",
        "    image_tensor = preprocess(image).unsqueeze(0)  # Shape: [1, 3, 224, 224]\n",
        "    print(f\"{filename} loaded successfully, tensor shape: {image_tensor.shape}\")\n",
        "    # Load pretrained ResNet50\n",
        "    resnet = models.resnet50(pretrained=True)\n",
        "    # Remove the final classifier layer\n",
        "    resnet = torch.nn.Sequential(*list(resnet.children())[:-1])\n",
        "    resnet.eval()  # Set to eval mode\n",
        "    # Get image embedding\n",
        "    with torch.no_grad():\n",
        "        image_embedding = resnet(image_tensor).flatten(1)  # Shape: [1, 2048]\n",
        "    print(f\"Image embedding shape: {image_embedding.shape}\")\n",
        "except FileNotFoundError:\n",
        "    print(f\"❌ File not found: {filename}\")\n",
        "except Exception as e:\n",
        "    print(f\"⚠️ Error processing {filename}: {e}\")"
      ],
      "metadata": {
        "colab": {
          "base_uri": "https://localhost:8080/"
        },
        "id": "K3oIxDYXrQkl",
        "outputId": "0962518d-6433-4ce2-b0f9-4d7eda69b033"
      },
      "execution_count": 16,
      "outputs": [
        {
          "output_type": "stream",
          "name": "stdout",
          "text": [
            "PNG_transparency_demonstration_1.png loaded successfully, tensor shape: torch.Size([1, 3, 224, 224])\n"
          ]
        },
        {
          "output_type": "stream",
          "name": "stderr",
          "text": [
            "/usr/local/lib/python3.12/dist-packages/torchvision/models/_utils.py:208: UserWarning: The parameter 'pretrained' is deprecated since 0.13 and may be removed in the future, please use 'weights' instead.\n",
            "  warnings.warn(\n",
            "/usr/local/lib/python3.12/dist-packages/torchvision/models/_utils.py:223: UserWarning: Arguments other than a weight enum or `None` for 'weights' are deprecated since 0.13 and may be removed in the future. The current behavior is equivalent to passing `weights=ResNet50_Weights.IMAGENET1K_V1`. You can also use `weights=ResNet50_Weights.DEFAULT` to get the most up-to-date weights.\n",
            "  warnings.warn(msg)\n"
          ]
        },
        {
          "output_type": "stream",
          "name": "stdout",
          "text": [
            "Image embedding shape: torch.Size([1, 2048])\n"
          ]
        }
      ]
    },
    {
      "cell_type": "code",
      "source": [
        "#Fusion of Text + Image Embeddings\n",
        "import torch\n",
        "import torch.nn as nn\n",
        "# Dummy embeddings (replace with actual BERT & ResNet embeddings)\n",
        "text_embedding = torch.randn(1, 768)   # Example: BERT/DistilBERT output\n",
        "image_embedding = torch.randn(1, 2048) # Example: ResNet output\n",
        "# Step 1: Fuse embeddings\n",
        "fused_embedding = torch.cat([text_embedding, image_embedding], dim=1)\n",
        "print(\"Fused embedding shape:\", fused_embedding.shape)  # Should be [1, 2816]\n",
        "# Step 2: Define a simple classifier\n",
        "classifier = nn.Sequential(\n",
        "    nn.Linear(fused_embedding.size(1), 512),\n",
        "    nn.ReLU(),\n",
        "    nn.Linear(512, 2),   # Example: 2 classes (real/fake)\n",
        "    nn.Softmax(dim=1)\n",
        ")\n",
        "# Step 3: Pass fused embedding to classifier\n",
        "output = classifier(fused_embedding)\n",
        "print(\"Classifier output:\", output)\n",
        "print(\"Predicted class:\", torch.argmax(output, dim=1).item())"
      ],
      "metadata": {
        "colab": {
          "base_uri": "https://localhost:8080/"
        },
        "id": "kdvHBXQnsIwC",
        "outputId": "4d6c99bf-badf-4c95-bd34-584f3409e0df"
      },
      "execution_count": 17,
      "outputs": [
        {
          "output_type": "stream",
          "name": "stdout",
          "text": [
            "Fused embedding shape: torch.Size([1, 2816])\n",
            "Classifier output: tensor([[0.4412, 0.5588]], grad_fn=<SoftmaxBackward0>)\n",
            "Predicted class: 1\n"
          ]
        }
      ]
    },
    {
      "cell_type": "markdown",
      "source": [
        "**Prepare Data for Modeling and output together**"
      ],
      "metadata": {
        "id": "MxA1OEmosxO6"
      }
    },
    {
      "cell_type": "code",
      "source": [
        "!pip install newspaper3k\n",
        "!pip install lxml_html_clean\n",
        "# ---------------- 0. Install necessary packages ----------------\n",
        "!pip install -q transformers torch torchvision beautifulsoup4 lxml_html_clean\n",
        "\n",
        "# ---------------- 1. Imports ----------------\n",
        "import torch\n",
        "from torch import nn, optim\n",
        "from torchvision import models, transforms\n",
        "from PIL import Image\n",
        "from transformers import DistilBertTokenizer, DistilBertModel\n",
        "from bs4 import BeautifulSoup\n",
        "import requests\n",
        "from google.colab import files\n",
        "\n",
        "# ---------------- 2. Text Encoder ----------------\n",
        "tokenizer = DistilBertTokenizer.from_pretrained('distilbert-base-uncased')\n",
        "text_model = DistilBertModel.from_pretrained('distilbert-base-uncased')\n",
        "\n",
        "def encode_text(text):\n",
        "    inputs = tokenizer(text, return_tensors=\"pt\", truncation=True, padding=True, max_length=128)\n",
        "    with torch.no_grad():\n",
        "        outputs = text_model(**inputs)\n",
        "    cls_embedding = outputs.last_hidden_state[:,0,:]\n",
        "    return cls_embedding\n",
        "\n",
        "# ---------------- 3. Image Encoder ----------------\n",
        "preprocess = transforms.Compose([\n",
        "    transforms.Resize((224,224)),\n",
        "    transforms.ToTensor(),\n",
        "    transforms.Normalize(mean=[0.485, 0.456, 0.406],\n",
        "                         std=[0.229, 0.224, 0.225])\n",
        "])\n",
        "\n",
        "resnet = models.resnet50(pretrained=True)\n",
        "resnet = nn.Sequential(*list(resnet.children())[:-1])  # Remove classifier\n",
        "resnet.eval()\n",
        "\n",
        "def encode_image(image_path):\n",
        "    try:\n",
        "        image = Image.open(image_path).convert(\"RGB\")\n",
        "    except FileNotFoundError:\n",
        "        print(f\"❌ File not found: {image_path}\")\n",
        "        return None\n",
        "    image_tensor = preprocess(image).unsqueeze(0)\n",
        "    with torch.no_grad():\n",
        "        embedding = resnet(image_tensor).flatten(1)\n",
        "    return embedding\n",
        "\n",
        "# ---------------- 4. Multimodal Classifier ----------------\n",
        "class MultimodalClassifier(nn.Module):\n",
        "    def __init__(self, text_dim=768, image_dim=2048, hidden_dim=512, num_classes=2):\n",
        "        super().__init__()\n",
        "        self.fc1 = nn.Linear(text_dim + image_dim, hidden_dim)\n",
        "        self.relu = nn.ReLU()\n",
        "        self.fc2 = nn.Linear(hidden_dim, num_classes)\n",
        "        self.softmax = nn.Softmax(dim=1)\n",
        "\n",
        "    def forward(self, text_emb, image_emb):\n",
        "        if image_emb is None:\n",
        "            image_emb = torch.zeros((text_emb.size(0), 2048))\n",
        "        fused = torch.cat([text_emb, image_emb], dim=1)\n",
        "        x = self.fc1(fused)\n",
        "        x = self.relu(x)\n",
        "        x = self.fc2(x)\n",
        "        return self.softmax(x)\n",
        "\n",
        "classifier = MultimodalClassifier()\n",
        "\n",
        "# ---------------- 5. Training Setup ----------------\n",
        "# Example dummy dataset (replace with real labeled dataset)\n",
        "train_texts = [\n",
        "    \"Indian Railways adds more coaches to Vande Bharat trains\",\n",
        "    \"Aliens discovered on Mars\"\n",
        "]\n",
        "train_image_paths = [\n",
        "    None,  # No image for first example\n",
        "    None   # No image for second example\n",
        "]\n",
        "train_labels = [0, 1]  # 0 = Real, 1 = Fake\n",
        "\n",
        "optimizer = optim.Adam(classifier.parameters(), lr=1e-4)\n",
        "criterion = nn.CrossEntropyLoss()\n",
        "\n",
        "# ---------------- 6. Training Loop ----------------\n",
        "classifier.train()\n",
        "for epoch in range(5):\n",
        "    total_loss = 0\n",
        "    for text, img_path, label in zip(train_texts, train_image_paths, train_labels):\n",
        "        text_emb = encode_text(text)\n",
        "        img_emb = encode_image(img_path) if img_path else None\n",
        "        label_tensor = torch.tensor([label])\n",
        "\n",
        "        optimizer.zero_grad()\n",
        "        output = classifier(text_emb, img_emb)\n",
        "        loss = criterion(output, label_tensor)\n",
        "        loss.backward()\n",
        "        optimizer.step()\n",
        "        total_loss += loss.item()\n",
        "    print(f\"Epoch {epoch+1}, Loss: {total_loss:.4f}\")\n",
        "\n",
        "# Save the trained model\n",
        "torch.save(classifier.state_dict(), \"trained_classifier.pth\")\n",
        "print(\"✅ Trained classifier saved!\")\n",
        "\n",
        "# ---------------- 7. User Input ----------------\n",
        "def fetch_news_text(url):\n",
        "    headers = {\"User-Agent\": \"Mozilla/5.0 (Windows NT 10.0; Win64; x64)\"}\n",
        "    try:\n",
        "        resp = requests.get(url, headers=headers)\n",
        "        if resp.status_code != 200:\n",
        "            print(f\"❌ Failed to fetch URL: {resp.status_code}\")\n",
        "            return None\n",
        "        soup = BeautifulSoup(resp.text, 'html.parser')\n",
        "        paragraphs = soup.find_all('p')\n",
        "        text = \" \".join([p.get_text() for p in paragraphs])\n",
        "        return text if text.strip() else None\n",
        "    except Exception as e:\n",
        "        print(f\"❌ Error fetching URL: {e}\")\n",
        "        return None\n",
        "\n",
        "print(\"\\nChoose input method:\")\n",
        "print(\"1 - Enter text and upload image\")\n",
        "print(\"2 - Enter news URL\")\n",
        "choice = input(\"Enter 1 or 2: \").strip()\n",
        "\n",
        "text_input = None\n",
        "image_embedding = None\n",
        "\n",
        "if choice == \"1\":\n",
        "    text_input = input(\"Enter a description text: \")\n",
        "    print(\"Upload an image file from your system:\")\n",
        "    uploaded = files.upload()\n",
        "    if uploaded:\n",
        "        image_path_input = list(uploaded.keys())[0]\n",
        "        image_embedding = encode_image(image_path_input)\n",
        "elif choice == \"2\":\n",
        "    url_input = input(\"Enter the news URL: \").strip()\n",
        "    text_input = fetch_news_text(url_input)\n",
        "    if text_input is None:\n",
        "        text_input = input(\"Enter news text manually (URL scraping failed): \")\n",
        "    print(\"Upload an image file (optional, press Enter to skip):\")\n",
        "    uploaded = files.upload()\n",
        "    if uploaded:\n",
        "        image_path_input = list(uploaded.keys())[0]\n",
        "        image_embedding = encode_image(image_path_input)\n",
        "else:\n",
        "    print(\"❌ Invalid choice. Exiting.\")\n",
        "    exit()\n",
        "\n",
        "# ---------------- 8. Load trained classifier ----------------\n",
        "classifier.load_state_dict(torch.load(\"trained_classifier.pth\"))\n",
        "classifier.eval()\n",
        "\n",
        "# ---------------- 9. Encode Text & Predict ----------------\n",
        "text_embedding = encode_text(text_input)\n",
        "output = classifier(text_embedding, image_embedding)\n",
        "\n",
        "# ---------------- 10. Show Result ----------------\n",
        "class_names = [\"Real News\", \"Fake News\"]\n",
        "if output is not None:\n",
        "    prob_real, prob_fake = output[0].tolist()\n",
        "    print(f\"\\nClassifier output (probabilities): Real: {prob_real:.3f}, Fake: {prob_fake:.3f}\")\n",
        "    print(\"Predicted class:\", class_names[torch.argmax(output, dim=1).item()])\n",
        "else:\n",
        "    print(\"Prediction could not be made.\")"
      ],
      "metadata": {
        "id": "tdOWEj6ls5kE",
        "colab": {
          "base_uri": "https://localhost:8080/",
          "height": 836
        },
        "outputId": "ca891603-19a7-4a12-874b-e65eb7beccab"
      },
      "execution_count": 19,
      "outputs": [
        {
          "output_type": "stream",
          "name": "stdout",
          "text": [
            "Requirement already satisfied: newspaper3k in /usr/local/lib/python3.12/dist-packages (0.2.8)\n",
            "Requirement already satisfied: beautifulsoup4>=4.4.1 in /usr/local/lib/python3.12/dist-packages (from newspaper3k) (4.13.5)\n",
            "Requirement already satisfied: Pillow>=3.3.0 in /usr/local/lib/python3.12/dist-packages (from newspaper3k) (11.3.0)\n",
            "Requirement already satisfied: PyYAML>=3.11 in /usr/local/lib/python3.12/dist-packages (from newspaper3k) (6.0.2)\n",
            "Requirement already satisfied: cssselect>=0.9.2 in /usr/local/lib/python3.12/dist-packages (from newspaper3k) (1.3.0)\n",
            "Requirement already satisfied: lxml>=3.6.0 in /usr/local/lib/python3.12/dist-packages (from newspaper3k) (5.4.0)\n",
            "Requirement already satisfied: nltk>=3.2.1 in /usr/local/lib/python3.12/dist-packages (from newspaper3k) (3.9.1)\n",
            "Requirement already satisfied: requests>=2.10.0 in /usr/local/lib/python3.12/dist-packages (from newspaper3k) (2.32.4)\n",
            "Requirement already satisfied: feedparser>=5.2.1 in /usr/local/lib/python3.12/dist-packages (from newspaper3k) (6.0.11)\n",
            "Requirement already satisfied: tldextract>=2.0.1 in /usr/local/lib/python3.12/dist-packages (from newspaper3k) (5.3.0)\n",
            "Requirement already satisfied: feedfinder2>=0.0.4 in /usr/local/lib/python3.12/dist-packages (from newspaper3k) (0.0.4)\n",
            "Requirement already satisfied: jieba3k>=0.35.1 in /usr/local/lib/python3.12/dist-packages (from newspaper3k) (0.35.1)\n",
            "Requirement already satisfied: python-dateutil>=2.5.3 in /usr/local/lib/python3.12/dist-packages (from newspaper3k) (2.9.0.post0)\n",
            "Requirement already satisfied: tinysegmenter==0.3 in /usr/local/lib/python3.12/dist-packages (from newspaper3k) (0.3)\n",
            "Requirement already satisfied: soupsieve>1.2 in /usr/local/lib/python3.12/dist-packages (from beautifulsoup4>=4.4.1->newspaper3k) (2.7)\n",
            "Requirement already satisfied: typing-extensions>=4.0.0 in /usr/local/lib/python3.12/dist-packages (from beautifulsoup4>=4.4.1->newspaper3k) (4.15.0)\n",
            "Requirement already satisfied: six in /usr/local/lib/python3.12/dist-packages (from feedfinder2>=0.0.4->newspaper3k) (1.17.0)\n",
            "Requirement already satisfied: sgmllib3k in /usr/local/lib/python3.12/dist-packages (from feedparser>=5.2.1->newspaper3k) (1.0.0)\n",
            "Requirement already satisfied: click in /usr/local/lib/python3.12/dist-packages (from nltk>=3.2.1->newspaper3k) (8.2.1)\n",
            "Requirement already satisfied: joblib in /usr/local/lib/python3.12/dist-packages (from nltk>=3.2.1->newspaper3k) (1.5.1)\n",
            "Requirement already satisfied: regex>=2021.8.3 in /usr/local/lib/python3.12/dist-packages (from nltk>=3.2.1->newspaper3k) (2024.11.6)\n",
            "Requirement already satisfied: tqdm in /usr/local/lib/python3.12/dist-packages (from nltk>=3.2.1->newspaper3k) (4.67.1)\n",
            "Requirement already satisfied: charset_normalizer<4,>=2 in /usr/local/lib/python3.12/dist-packages (from requests>=2.10.0->newspaper3k) (3.4.3)\n",
            "Requirement already satisfied: idna<4,>=2.5 in /usr/local/lib/python3.12/dist-packages (from requests>=2.10.0->newspaper3k) (3.10)\n",
            "Requirement already satisfied: urllib3<3,>=1.21.1 in /usr/local/lib/python3.12/dist-packages (from requests>=2.10.0->newspaper3k) (2.5.0)\n",
            "Requirement already satisfied: certifi>=2017.4.17 in /usr/local/lib/python3.12/dist-packages (from requests>=2.10.0->newspaper3k) (2025.8.3)\n",
            "Requirement already satisfied: requests-file>=1.4 in /usr/local/lib/python3.12/dist-packages (from tldextract>=2.0.1->newspaper3k) (2.1.0)\n",
            "Requirement already satisfied: filelock>=3.0.8 in /usr/local/lib/python3.12/dist-packages (from tldextract>=2.0.1->newspaper3k) (3.19.1)\n",
            "Requirement already satisfied: lxml_html_clean in /usr/local/lib/python3.12/dist-packages (0.4.2)\n",
            "Requirement already satisfied: lxml in /usr/local/lib/python3.12/dist-packages (from lxml_html_clean) (5.4.0)\n",
            "Epoch 1, Loss: 1.4263\n",
            "Epoch 2, Loss: 1.3591\n",
            "Epoch 3, Loss: 1.3123\n",
            "Epoch 4, Loss: 1.2722\n",
            "Epoch 5, Loss: 1.2350\n",
            "✅ Trained classifier saved!\n",
            "\n",
            "Choose input method:\n",
            "1 - Enter text and upload image\n",
            "2 - Enter news URL\n",
            "Enter 1 or 2: 2\n",
            "Enter the news URL: https://economictimes.indiatimes.com/industry/transportation/railways/railways-to-run-longer-vande-bharat-trains-as-demand-rises/articleshow/123566653.cms?from=mdr\n",
            "Upload an image file (optional, press Enter to skip):\n"
          ]
        },
        {
          "output_type": "display_data",
          "data": {
            "text/plain": [
              "<IPython.core.display.HTML object>"
            ],
            "text/html": [
              "\n",
              "     <input type=\"file\" id=\"files-ceed12b9-65e9-4ec5-99c8-382544c8bd6a\" name=\"files[]\" multiple disabled\n",
              "        style=\"border:none\" />\n",
              "     <output id=\"result-ceed12b9-65e9-4ec5-99c8-382544c8bd6a\">\n",
              "      Upload widget is only available when the cell has been executed in the\n",
              "      current browser session. Please rerun this cell to enable.\n",
              "      </output>\n",
              "      <script>// Copyright 2017 Google LLC\n",
              "//\n",
              "// Licensed under the Apache License, Version 2.0 (the \"License\");\n",
              "// you may not use this file except in compliance with the License.\n",
              "// You may obtain a copy of the License at\n",
              "//\n",
              "//      http://www.apache.org/licenses/LICENSE-2.0\n",
              "//\n",
              "// Unless required by applicable law or agreed to in writing, software\n",
              "// distributed under the License is distributed on an \"AS IS\" BASIS,\n",
              "// WITHOUT WARRANTIES OR CONDITIONS OF ANY KIND, either express or implied.\n",
              "// See the License for the specific language governing permissions and\n",
              "// limitations under the License.\n",
              "\n",
              "/**\n",
              " * @fileoverview Helpers for google.colab Python module.\n",
              " */\n",
              "(function(scope) {\n",
              "function span(text, styleAttributes = {}) {\n",
              "  const element = document.createElement('span');\n",
              "  element.textContent = text;\n",
              "  for (const key of Object.keys(styleAttributes)) {\n",
              "    element.style[key] = styleAttributes[key];\n",
              "  }\n",
              "  return element;\n",
              "}\n",
              "\n",
              "// Max number of bytes which will be uploaded at a time.\n",
              "const MAX_PAYLOAD_SIZE = 100 * 1024;\n",
              "\n",
              "function _uploadFiles(inputId, outputId) {\n",
              "  const steps = uploadFilesStep(inputId, outputId);\n",
              "  const outputElement = document.getElementById(outputId);\n",
              "  // Cache steps on the outputElement to make it available for the next call\n",
              "  // to uploadFilesContinue from Python.\n",
              "  outputElement.steps = steps;\n",
              "\n",
              "  return _uploadFilesContinue(outputId);\n",
              "}\n",
              "\n",
              "// This is roughly an async generator (not supported in the browser yet),\n",
              "// where there are multiple asynchronous steps and the Python side is going\n",
              "// to poll for completion of each step.\n",
              "// This uses a Promise to block the python side on completion of each step,\n",
              "// then passes the result of the previous step as the input to the next step.\n",
              "function _uploadFilesContinue(outputId) {\n",
              "  const outputElement = document.getElementById(outputId);\n",
              "  const steps = outputElement.steps;\n",
              "\n",
              "  const next = steps.next(outputElement.lastPromiseValue);\n",
              "  return Promise.resolve(next.value.promise).then((value) => {\n",
              "    // Cache the last promise value to make it available to the next\n",
              "    // step of the generator.\n",
              "    outputElement.lastPromiseValue = value;\n",
              "    return next.value.response;\n",
              "  });\n",
              "}\n",
              "\n",
              "/**\n",
              " * Generator function which is called between each async step of the upload\n",
              " * process.\n",
              " * @param {string} inputId Element ID of the input file picker element.\n",
              " * @param {string} outputId Element ID of the output display.\n",
              " * @return {!Iterable<!Object>} Iterable of next steps.\n",
              " */\n",
              "function* uploadFilesStep(inputId, outputId) {\n",
              "  const inputElement = document.getElementById(inputId);\n",
              "  inputElement.disabled = false;\n",
              "\n",
              "  const outputElement = document.getElementById(outputId);\n",
              "  outputElement.innerHTML = '';\n",
              "\n",
              "  const pickedPromise = new Promise((resolve) => {\n",
              "    inputElement.addEventListener('change', (e) => {\n",
              "      resolve(e.target.files);\n",
              "    });\n",
              "  });\n",
              "\n",
              "  const cancel = document.createElement('button');\n",
              "  inputElement.parentElement.appendChild(cancel);\n",
              "  cancel.textContent = 'Cancel upload';\n",
              "  const cancelPromise = new Promise((resolve) => {\n",
              "    cancel.onclick = () => {\n",
              "      resolve(null);\n",
              "    };\n",
              "  });\n",
              "\n",
              "  // Wait for the user to pick the files.\n",
              "  const files = yield {\n",
              "    promise: Promise.race([pickedPromise, cancelPromise]),\n",
              "    response: {\n",
              "      action: 'starting',\n",
              "    }\n",
              "  };\n",
              "\n",
              "  cancel.remove();\n",
              "\n",
              "  // Disable the input element since further picks are not allowed.\n",
              "  inputElement.disabled = true;\n",
              "\n",
              "  if (!files) {\n",
              "    return {\n",
              "      response: {\n",
              "        action: 'complete',\n",
              "      }\n",
              "    };\n",
              "  }\n",
              "\n",
              "  for (const file of files) {\n",
              "    const li = document.createElement('li');\n",
              "    li.append(span(file.name, {fontWeight: 'bold'}));\n",
              "    li.append(span(\n",
              "        `(${file.type || 'n/a'}) - ${file.size} bytes, ` +\n",
              "        `last modified: ${\n",
              "            file.lastModifiedDate ? file.lastModifiedDate.toLocaleDateString() :\n",
              "                                    'n/a'} - `));\n",
              "    const percent = span('0% done');\n",
              "    li.appendChild(percent);\n",
              "\n",
              "    outputElement.appendChild(li);\n",
              "\n",
              "    const fileDataPromise = new Promise((resolve) => {\n",
              "      const reader = new FileReader();\n",
              "      reader.onload = (e) => {\n",
              "        resolve(e.target.result);\n",
              "      };\n",
              "      reader.readAsArrayBuffer(file);\n",
              "    });\n",
              "    // Wait for the data to be ready.\n",
              "    let fileData = yield {\n",
              "      promise: fileDataPromise,\n",
              "      response: {\n",
              "        action: 'continue',\n",
              "      }\n",
              "    };\n",
              "\n",
              "    // Use a chunked sending to avoid message size limits. See b/62115660.\n",
              "    let position = 0;\n",
              "    do {\n",
              "      const length = Math.min(fileData.byteLength - position, MAX_PAYLOAD_SIZE);\n",
              "      const chunk = new Uint8Array(fileData, position, length);\n",
              "      position += length;\n",
              "\n",
              "      const base64 = btoa(String.fromCharCode.apply(null, chunk));\n",
              "      yield {\n",
              "        response: {\n",
              "          action: 'append',\n",
              "          file: file.name,\n",
              "          data: base64,\n",
              "        },\n",
              "      };\n",
              "\n",
              "      let percentDone = fileData.byteLength === 0 ?\n",
              "          100 :\n",
              "          Math.round((position / fileData.byteLength) * 100);\n",
              "      percent.textContent = `${percentDone}% done`;\n",
              "\n",
              "    } while (position < fileData.byteLength);\n",
              "  }\n",
              "\n",
              "  // All done.\n",
              "  yield {\n",
              "    response: {\n",
              "      action: 'complete',\n",
              "    }\n",
              "  };\n",
              "}\n",
              "\n",
              "scope.google = scope.google || {};\n",
              "scope.google.colab = scope.google.colab || {};\n",
              "scope.google.colab._files = {\n",
              "  _uploadFiles,\n",
              "  _uploadFilesContinue,\n",
              "};\n",
              "})(self);\n",
              "</script> "
            ]
          },
          "metadata": {}
        },
        {
          "output_type": "stream",
          "name": "stdout",
          "text": [
            "\n",
            "Classifier output (probabilities): Real: 0.630, Fake: 0.370\n",
            "Predicted class: Real News\n"
          ]
        }
      ]
    }
  ]
}